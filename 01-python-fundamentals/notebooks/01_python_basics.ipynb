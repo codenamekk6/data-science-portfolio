{
  "nbformat": 4,
  "nbformat_minor": 0,
  "metadata": {
    "colab": {
      "provenance": []
    },
    "kernelspec": {
      "name": "python3",
      "display_name": "Python 3"
    },
    "language_info": {
      "name": "python"
    }
  },
  "cells": [
    {
      "cell_type": "markdown",
      "source": [
        "🧠 **Variables, Data Types, and Expressions**"
      ],
      "metadata": {
        "id": "vGvR5-4T1jnr"
      }
    },
    {
      "cell_type": "code",
      "execution_count": 1,
      "metadata": {
        "colab": {
          "base_uri": "https://localhost:8080/"
        },
        "id": "oW8NJmci1Fts",
        "outputId": "6642db89-8078-4c7b-80ab-b61e4c7121c0"
      },
      "outputs": [
        {
          "output_type": "stream",
          "name": "stdout",
          "text": [
            "Data Science version 3.11 - Active for 10 years: True\n"
          ]
        }
      ],
      "source": [
        "# Variable assignments\n",
        "name = \"Data Science\"\n",
        "version = 3.11\n",
        "year = 2025\n",
        "\n",
        "# Expressions with different data types\n",
        "total_years = year - 2015\n",
        "is_active = True\n",
        "\n",
        "# Display results\n",
        "print(f\"{name} version {version} - Active for {total_years} years: {is_active}\")\n"
      ]
    },
    {
      "cell_type": "markdown",
      "source": [
        "🔁 **Control Flow: If-Else Statements and Loops**"
      ],
      "metadata": {
        "id": "akkFo7_62IIp"
      }
    },
    {
      "cell_type": "code",
      "source": [
        "# If-else condition\n",
        "num = 15\n",
        "\n",
        "if num % 2 == 0:\n",
        "    print(f\"{num} is even\")\n",
        "else:\n",
        "    print(f\"{num} is odd\")\n",
        "\n",
        "# For loop\n",
        "for i in range(1, 6):\n",
        "    print(f\"Square of {i} is {i ** 2}\")\n"
      ],
      "metadata": {
        "colab": {
          "base_uri": "https://localhost:8080/"
        },
        "id": "SU3gasiK2cD_",
        "outputId": "65b1ce1c-010f-4836-852a-3024869a7cb8"
      },
      "execution_count": 2,
      "outputs": [
        {
          "output_type": "stream",
          "name": "stdout",
          "text": [
            "15 is odd\n",
            "Square of 1 is 1\n",
            "Square of 2 is 4\n",
            "Square of 3 is 9\n",
            "Square of 4 is 16\n",
            "Square of 5 is 25\n"
          ]
        }
      ]
    },
    {
      "cell_type": "markdown",
      "source": [
        "📦 **Data Structures: Lists, Tuples, Dictionaries, and Sets**"
      ],
      "metadata": {
        "id": "rXr-FD9q2nkm"
      }
    },
    {
      "cell_type": "code",
      "source": [
        "# List\n",
        "my_list = [10, 20, 30, 40]\n",
        "print(\"List:\", my_list)\n",
        "\n",
        "# Tuple (immutable list)\n",
        "my_tuple = (5, 10, 15)\n",
        "print(\"Tuple:\", my_tuple)\n",
        "\n",
        "# Dictionary\n",
        "my_dict = {\"Python\": 3.11, \"Pandas\": 2.1}\n",
        "print(\"Dictionary:\", my_dict)\n",
        "\n",
        "# Set (unique values only)\n",
        "my_set = {1, 2, 2, 3}\n",
        "print(\"Set:\", my_set)  # Output will ignore duplicate 2\n"
      ],
      "metadata": {
        "colab": {
          "base_uri": "https://localhost:8080/"
        },
        "id": "kK80bQ412w14",
        "outputId": "6941b908-2473-4875-eda1-cfca904aee79"
      },
      "execution_count": 3,
      "outputs": [
        {
          "output_type": "stream",
          "name": "stdout",
          "text": [
            "List: [10, 20, 30, 40]\n",
            "Tuple: (5, 10, 15)\n",
            "Dictionary: {'Python': 3.11, 'Pandas': 2.1}\n",
            "Set: {1, 2, 3}\n"
          ]
        }
      ]
    },
    {
      "cell_type": "markdown",
      "source": [
        "🧩 **Functions and Modules**"
      ],
      "metadata": {
        "id": "2wkY9RW53DFq"
      }
    },
    {
      "cell_type": "code",
      "source": [
        "# Define a simple function\n",
        "def multiply(a, b):\n",
        "    return a * b\n",
        "\n",
        "# Call the function\n",
        "result = multiply(4, 5)\n",
        "print(\"Multiplication Result:\", result)\n",
        "\n",
        "# Example of using a built-in module\n",
        "import math\n",
        "\n",
        "radius = 3\n",
        "area = math.pi * radius ** 2\n",
        "print(f\"Area of circle: {area:.2f}\")\n"
      ],
      "metadata": {
        "colab": {
          "base_uri": "https://localhost:8080/"
        },
        "id": "vANpnGKS3GsK",
        "outputId": "1f44beb0-6305-453e-a4e9-211e275d0281"
      },
      "execution_count": 4,
      "outputs": [
        {
          "output_type": "stream",
          "name": "stdout",
          "text": [
            "Multiplication Result: 20\n",
            "Area of circle: 28.27\n"
          ]
        }
      ]
    },
    {
      "cell_type": "markdown",
      "source": [
        "🧱 **Object-Oriented Programming (OOP)**"
      ],
      "metadata": {
        "id": "12YrDfZY3hJw"
      }
    },
    {
      "cell_type": "code",
      "source": [
        "# Define a simple class\n",
        "class Circle:\n",
        "    def __init__(self, radius):\n",
        "        self.radius = radius\n",
        "\n",
        "    def get_area(self):\n",
        "        return math.pi * self.radius ** 2\n",
        "\n",
        "# Create object and use method\n",
        "c = Circle(5)\n",
        "print(f\"Circle Area (OOP): {c.get_area():.2f}\")\n"
      ],
      "metadata": {
        "colab": {
          "base_uri": "https://localhost:8080/"
        },
        "id": "Q7a5rNp03qjq",
        "outputId": "0eb57667-aed9-4388-faf7-b5fd5c3a97ec"
      },
      "execution_count": 5,
      "outputs": [
        {
          "output_type": "stream",
          "name": "stdout",
          "text": [
            "Circle Area (OOP): 78.54\n"
          ]
        }
      ]
    },
    {
      "cell_type": "markdown",
      "source": [],
      "metadata": {
        "id": "mR_OWAlZ4BBT"
      }
    }
  ]
}