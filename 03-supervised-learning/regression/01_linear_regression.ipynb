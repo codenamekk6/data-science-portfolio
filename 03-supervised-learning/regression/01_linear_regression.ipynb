{
  "nbformat": 4,
  "nbformat_minor": 0,
  "metadata": {
    "colab": {
      "provenance": []
    },
    "kernelspec": {
      "name": "python3",
      "display_name": "Python 3"
    },
    "language_info": {
      "name": "python"
    }
  },
  "cells": [
    {
      "cell_type": "markdown",
      "source": [
        "# 📈 Linear Regression for Predicting House Prices\n",
        "\n",
        "In this notebook, we use simple linear regression to predict housing prices based on square footage.\n",
        "We'll cover:\n",
        "- Data preparation\n",
        "- Model training\n",
        "- Predictions\n",
        "- Model evaluation using R² and RMSE\n"
      ],
      "metadata": {
        "id": "4-kOdIwaRePw"
      }
    },
    {
      "cell_type": "markdown",
      "source": [
        "🔢 1. Import Libraries and Create Dataset"
      ],
      "metadata": {
        "id": "Ah3xmCLTRxi8"
      }
    },
    {
      "cell_type": "code",
      "execution_count": 1,
      "metadata": {
        "colab": {
          "base_uri": "https://localhost:8080/",
          "height": 206
        },
        "id": "8As4piynQSFC",
        "outputId": "448723a8-518a-4933-985b-3b2769822e70"
      },
      "outputs": [
        {
          "output_type": "execute_result",
          "data": {
            "text/plain": [
              "   Square Feet   Price\n",
              "0          500  150000\n",
              "1          800  200000\n",
              "2         1000  250000\n",
              "3         1200  270000\n",
              "4         1500  310000"
            ],
            "text/html": [
              "\n",
              "  <div id=\"df-5d792891-d180-45a4-a50d-2c80a9ae41ee\" class=\"colab-df-container\">\n",
              "    <div>\n",
              "<style scoped>\n",
              "    .dataframe tbody tr th:only-of-type {\n",
              "        vertical-align: middle;\n",
              "    }\n",
              "\n",
              "    .dataframe tbody tr th {\n",
              "        vertical-align: top;\n",
              "    }\n",
              "\n",
              "    .dataframe thead th {\n",
              "        text-align: right;\n",
              "    }\n",
              "</style>\n",
              "<table border=\"1\" class=\"dataframe\">\n",
              "  <thead>\n",
              "    <tr style=\"text-align: right;\">\n",
              "      <th></th>\n",
              "      <th>Square Feet</th>\n",
              "      <th>Price</th>\n",
              "    </tr>\n",
              "  </thead>\n",
              "  <tbody>\n",
              "    <tr>\n",
              "      <th>0</th>\n",
              "      <td>500</td>\n",
              "      <td>150000</td>\n",
              "    </tr>\n",
              "    <tr>\n",
              "      <th>1</th>\n",
              "      <td>800</td>\n",
              "      <td>200000</td>\n",
              "    </tr>\n",
              "    <tr>\n",
              "      <th>2</th>\n",
              "      <td>1000</td>\n",
              "      <td>250000</td>\n",
              "    </tr>\n",
              "    <tr>\n",
              "      <th>3</th>\n",
              "      <td>1200</td>\n",
              "      <td>270000</td>\n",
              "    </tr>\n",
              "    <tr>\n",
              "      <th>4</th>\n",
              "      <td>1500</td>\n",
              "      <td>310000</td>\n",
              "    </tr>\n",
              "  </tbody>\n",
              "</table>\n",
              "</div>\n",
              "    <div class=\"colab-df-buttons\">\n",
              "\n",
              "  <div class=\"colab-df-container\">\n",
              "    <button class=\"colab-df-convert\" onclick=\"convertToInteractive('df-5d792891-d180-45a4-a50d-2c80a9ae41ee')\"\n",
              "            title=\"Convert this dataframe to an interactive table.\"\n",
              "            style=\"display:none;\">\n",
              "\n",
              "  <svg xmlns=\"http://www.w3.org/2000/svg\" height=\"24px\" viewBox=\"0 -960 960 960\">\n",
              "    <path d=\"M120-120v-720h720v720H120Zm60-500h600v-160H180v160Zm220 220h160v-160H400v160Zm0 220h160v-160H400v160ZM180-400h160v-160H180v160Zm440 0h160v-160H620v160ZM180-180h160v-160H180v160Zm440 0h160v-160H620v160Z\"/>\n",
              "  </svg>\n",
              "    </button>\n",
              "\n",
              "  <style>\n",
              "    .colab-df-container {\n",
              "      display:flex;\n",
              "      gap: 12px;\n",
              "    }\n",
              "\n",
              "    .colab-df-convert {\n",
              "      background-color: #E8F0FE;\n",
              "      border: none;\n",
              "      border-radius: 50%;\n",
              "      cursor: pointer;\n",
              "      display: none;\n",
              "      fill: #1967D2;\n",
              "      height: 32px;\n",
              "      padding: 0 0 0 0;\n",
              "      width: 32px;\n",
              "    }\n",
              "\n",
              "    .colab-df-convert:hover {\n",
              "      background-color: #E2EBFA;\n",
              "      box-shadow: 0px 1px 2px rgba(60, 64, 67, 0.3), 0px 1px 3px 1px rgba(60, 64, 67, 0.15);\n",
              "      fill: #174EA6;\n",
              "    }\n",
              "\n",
              "    .colab-df-buttons div {\n",
              "      margin-bottom: 4px;\n",
              "    }\n",
              "\n",
              "    [theme=dark] .colab-df-convert {\n",
              "      background-color: #3B4455;\n",
              "      fill: #D2E3FC;\n",
              "    }\n",
              "\n",
              "    [theme=dark] .colab-df-convert:hover {\n",
              "      background-color: #434B5C;\n",
              "      box-shadow: 0px 1px 3px 1px rgba(0, 0, 0, 0.15);\n",
              "      filter: drop-shadow(0px 1px 2px rgba(0, 0, 0, 0.3));\n",
              "      fill: #FFFFFF;\n",
              "    }\n",
              "  </style>\n",
              "\n",
              "    <script>\n",
              "      const buttonEl =\n",
              "        document.querySelector('#df-5d792891-d180-45a4-a50d-2c80a9ae41ee button.colab-df-convert');\n",
              "      buttonEl.style.display =\n",
              "        google.colab.kernel.accessAllowed ? 'block' : 'none';\n",
              "\n",
              "      async function convertToInteractive(key) {\n",
              "        const element = document.querySelector('#df-5d792891-d180-45a4-a50d-2c80a9ae41ee');\n",
              "        const dataTable =\n",
              "          await google.colab.kernel.invokeFunction('convertToInteractive',\n",
              "                                                    [key], {});\n",
              "        if (!dataTable) return;\n",
              "\n",
              "        const docLinkHtml = 'Like what you see? Visit the ' +\n",
              "          '<a target=\"_blank\" href=https://colab.research.google.com/notebooks/data_table.ipynb>data table notebook</a>'\n",
              "          + ' to learn more about interactive tables.';\n",
              "        element.innerHTML = '';\n",
              "        dataTable['output_type'] = 'display_data';\n",
              "        await google.colab.output.renderOutput(dataTable, element);\n",
              "        const docLink = document.createElement('div');\n",
              "        docLink.innerHTML = docLinkHtml;\n",
              "        element.appendChild(docLink);\n",
              "      }\n",
              "    </script>\n",
              "  </div>\n",
              "\n",
              "\n",
              "<div id=\"df-6ca0a90a-961f-455e-a924-a89ad40eab5d\">\n",
              "  <button class=\"colab-df-quickchart\" onclick=\"quickchart('df-6ca0a90a-961f-455e-a924-a89ad40eab5d')\"\n",
              "            title=\"Suggest charts\"\n",
              "            style=\"display:none;\">\n",
              "\n",
              "<svg xmlns=\"http://www.w3.org/2000/svg\" height=\"24px\"viewBox=\"0 0 24 24\"\n",
              "     width=\"24px\">\n",
              "    <g>\n",
              "        <path d=\"M19 3H5c-1.1 0-2 .9-2 2v14c0 1.1.9 2 2 2h14c1.1 0 2-.9 2-2V5c0-1.1-.9-2-2-2zM9 17H7v-7h2v7zm4 0h-2V7h2v10zm4 0h-2v-4h2v4z\"/>\n",
              "    </g>\n",
              "</svg>\n",
              "  </button>\n",
              "\n",
              "<style>\n",
              "  .colab-df-quickchart {\n",
              "      --bg-color: #E8F0FE;\n",
              "      --fill-color: #1967D2;\n",
              "      --hover-bg-color: #E2EBFA;\n",
              "      --hover-fill-color: #174EA6;\n",
              "      --disabled-fill-color: #AAA;\n",
              "      --disabled-bg-color: #DDD;\n",
              "  }\n",
              "\n",
              "  [theme=dark] .colab-df-quickchart {\n",
              "      --bg-color: #3B4455;\n",
              "      --fill-color: #D2E3FC;\n",
              "      --hover-bg-color: #434B5C;\n",
              "      --hover-fill-color: #FFFFFF;\n",
              "      --disabled-bg-color: #3B4455;\n",
              "      --disabled-fill-color: #666;\n",
              "  }\n",
              "\n",
              "  .colab-df-quickchart {\n",
              "    background-color: var(--bg-color);\n",
              "    border: none;\n",
              "    border-radius: 50%;\n",
              "    cursor: pointer;\n",
              "    display: none;\n",
              "    fill: var(--fill-color);\n",
              "    height: 32px;\n",
              "    padding: 0;\n",
              "    width: 32px;\n",
              "  }\n",
              "\n",
              "  .colab-df-quickchart:hover {\n",
              "    background-color: var(--hover-bg-color);\n",
              "    box-shadow: 0 1px 2px rgba(60, 64, 67, 0.3), 0 1px 3px 1px rgba(60, 64, 67, 0.15);\n",
              "    fill: var(--button-hover-fill-color);\n",
              "  }\n",
              "\n",
              "  .colab-df-quickchart-complete:disabled,\n",
              "  .colab-df-quickchart-complete:disabled:hover {\n",
              "    background-color: var(--disabled-bg-color);\n",
              "    fill: var(--disabled-fill-color);\n",
              "    box-shadow: none;\n",
              "  }\n",
              "\n",
              "  .colab-df-spinner {\n",
              "    border: 2px solid var(--fill-color);\n",
              "    border-color: transparent;\n",
              "    border-bottom-color: var(--fill-color);\n",
              "    animation:\n",
              "      spin 1s steps(1) infinite;\n",
              "  }\n",
              "\n",
              "  @keyframes spin {\n",
              "    0% {\n",
              "      border-color: transparent;\n",
              "      border-bottom-color: var(--fill-color);\n",
              "      border-left-color: var(--fill-color);\n",
              "    }\n",
              "    20% {\n",
              "      border-color: transparent;\n",
              "      border-left-color: var(--fill-color);\n",
              "      border-top-color: var(--fill-color);\n",
              "    }\n",
              "    30% {\n",
              "      border-color: transparent;\n",
              "      border-left-color: var(--fill-color);\n",
              "      border-top-color: var(--fill-color);\n",
              "      border-right-color: var(--fill-color);\n",
              "    }\n",
              "    40% {\n",
              "      border-color: transparent;\n",
              "      border-right-color: var(--fill-color);\n",
              "      border-top-color: var(--fill-color);\n",
              "    }\n",
              "    60% {\n",
              "      border-color: transparent;\n",
              "      border-right-color: var(--fill-color);\n",
              "    }\n",
              "    80% {\n",
              "      border-color: transparent;\n",
              "      border-right-color: var(--fill-color);\n",
              "      border-bottom-color: var(--fill-color);\n",
              "    }\n",
              "    90% {\n",
              "      border-color: transparent;\n",
              "      border-bottom-color: var(--fill-color);\n",
              "    }\n",
              "  }\n",
              "</style>\n",
              "\n",
              "  <script>\n",
              "    async function quickchart(key) {\n",
              "      const quickchartButtonEl =\n",
              "        document.querySelector('#' + key + ' button');\n",
              "      quickchartButtonEl.disabled = true;  // To prevent multiple clicks.\n",
              "      quickchartButtonEl.classList.add('colab-df-spinner');\n",
              "      try {\n",
              "        const charts = await google.colab.kernel.invokeFunction(\n",
              "            'suggestCharts', [key], {});\n",
              "      } catch (error) {\n",
              "        console.error('Error during call to suggestCharts:', error);\n",
              "      }\n",
              "      quickchartButtonEl.classList.remove('colab-df-spinner');\n",
              "      quickchartButtonEl.classList.add('colab-df-quickchart-complete');\n",
              "    }\n",
              "    (() => {\n",
              "      let quickchartButtonEl =\n",
              "        document.querySelector('#df-6ca0a90a-961f-455e-a924-a89ad40eab5d button');\n",
              "      quickchartButtonEl.style.display =\n",
              "        google.colab.kernel.accessAllowed ? 'block' : 'none';\n",
              "    })();\n",
              "  </script>\n",
              "</div>\n",
              "\n",
              "    </div>\n",
              "  </div>\n"
            ],
            "application/vnd.google.colaboratory.intrinsic+json": {
              "type": "dataframe",
              "variable_name": "df",
              "summary": "{\n  \"name\": \"df\",\n  \"rows\": 9,\n  \"fields\": [\n    {\n      \"column\": \"Square Feet\",\n      \"properties\": {\n        \"dtype\": \"number\",\n        \"std\": 676,\n        \"min\": 500,\n        \"max\": 2500,\n        \"num_unique_values\": 9,\n        \"samples\": [\n          2200,\n          800,\n          1800\n        ],\n        \"semantic_type\": \"\",\n        \"description\": \"\"\n      }\n    },\n    {\n      \"column\": \"Price\",\n      \"properties\": {\n        \"dtype\": \"number\",\n        \"std\": 89225,\n        \"min\": 150000,\n        \"max\": 420000,\n        \"num_unique_values\": 9,\n        \"samples\": [\n          390000,\n          200000,\n          340000\n        ],\n        \"semantic_type\": \"\",\n        \"description\": \"\"\n      }\n    }\n  ]\n}"
            }
          },
          "metadata": {},
          "execution_count": 1
        }
      ],
      "source": [
        "import pandas as pd\n",
        "import numpy as np\n",
        "import matplotlib.pyplot as plt\n",
        "from sklearn.linear_model import LinearRegression\n",
        "from sklearn.metrics import mean_squared_error, r2_score\n",
        "\n",
        "# Create a sample dataset\n",
        "data = {\n",
        "    \"Square Feet\": [500, 800, 1000, 1200, 1500, 1800, 2000, 2200, 2500],\n",
        "    \"Price\": [150000, 200000, 250000, 270000, 310000, 340000, 360000, 390000, 420000]\n",
        "}\n",
        "\n",
        "df = pd.DataFrame(data)\n",
        "df.head()\n"
      ]
    },
    {
      "cell_type": "markdown",
      "source": [
        "📉 2. Visualize the Data"
      ],
      "metadata": {
        "id": "Z2aFLLiDSmdx"
      }
    },
    {
      "cell_type": "code",
      "source": [
        "plt.scatter(df[\"Square Feet\"], df[\"Price\"], color='blue')\n",
        "plt.title(\"Square Feet vs Price\")\n",
        "plt.xlabel(\"Square Feet\")\n",
        "plt.ylabel(\"Price\")\n",
        "plt.grid(True)\n",
        "plt.show()\n"
      ],
      "metadata": {
        "colab": {
          "base_uri": "https://localhost:8080/",
          "height": 472
        },
        "id": "yKScTBghSoOS",
        "outputId": "cc37047a-2327-4b44-8b8b-9663f90ee7a1"
      },
      "execution_count": 2,
      "outputs": [
        {
          "output_type": "display_data",
          "data": {
            "text/plain": [
              "<Figure size 640x480 with 1 Axes>"
            ],
            "image/png": "[encoded data removed]"
          },
          "metadata": {}
        }
      ]
    },
    {
      "cell_type": "markdown",
      "source": [
        "### 📉 Interpretation of Square Feet vs Price\n",
        "\n",
        "- This scatter plot shows the relationship between **house size (square feet)** and **house price**.\n",
        "- The data points form an **upward-sloping trend**, indicating a **positive linear relationship**.\n",
        "- As the size of the house increases, the price generally increases as well.\n",
        "- The points are closely clustered along an invisible straight line, suggesting that **linear regression** is an appropriate model for this dataset.\n",
        "- There are **no significant outliers**, and the relationship appears to be **strong and consistent** across all values.\n"
      ],
      "metadata": {
        "id": "6grESrBGTFQL"
      }
    },
    {
      "cell_type": "markdown",
      "source": [
        "🔍 3. Train a Linear Regression Model"
      ],
      "metadata": {
        "id": "LvflhH-VTN6n"
      }
    },
    {
      "cell_type": "code",
      "source": [
        "# Reshape input features for sklearn\n",
        "X = df[[\"Square Feet\"]]\n",
        "y = df[\"Price\"]\n",
        "\n",
        "model = LinearRegression()\n",
        "model.fit(X, y)\n",
        "\n",
        "# Predict on the same data\n",
        "y_pred = model.predict(X)\n"
      ],
      "metadata": {
        "id": "Be47c2uVTO8z"
      },
      "execution_count": 3,
      "outputs": []
    },
    {
      "cell_type": "markdown",
      "source": [
        "📈 4. Plot the Regression Line"
      ],
      "metadata": {
        "id": "iZMwWYN-TaQP"
      }
    },
    {
      "cell_type": "code",
      "source": [
        "plt.scatter(X, y, label=\"Actual\", color='blue')\n",
        "plt.plot(X, y_pred, label=\"Predicted\", color='red')\n",
        "plt.title(\"Linear Regression Fit\")\n",
        "plt.xlabel(\"Square Feet\")\n",
        "plt.ylabel(\"Price\")\n",
        "plt.legend()\n",
        "plt.show()\n"
      ],
      "metadata": {
        "colab": {
          "base_uri": "https://localhost:8080/",
          "height": 472
        },
        "id": "7CJUtu6BTbOd",
        "outputId": "bf0f52f8-c288-4429-8b7d-7bb4aa1e77ae"
      },
      "execution_count": 4,
      "outputs": [
        {
          "output_type": "display_data",
          "data": {
            "text/plain": [
              "<Figure size 640x480 with 1 Axes>"
            ],
            "image/png": "[encoded data removed]"
          },
          "metadata": {}
        }
      ]
    },
    {
      "cell_type": "markdown",
      "source": [
        "### 📈 Interpretation of Linear Regression Fit\n",
        "\n",
        "- This plot displays the **actual house prices** (blue dots) and the **predicted prices** from the linear regression model (red line).\n",
        "- The red line represents the **best-fit linear regression line**, showing the model's predicted price based on square footage.\n",
        "- The blue dots align closely with the red line, indicating that the model is capturing the relationship **accurately and consistently**.\n",
        "- The small vertical gaps between the points and the line show **low prediction error**, suggesting a **strong linear fit**.\n",
        "- This visual confirms that square footage is a strong predictor of price in this dataset, making linear regression a suitable model.\n",
        "\n",
        "✅ A well-fitting line like this suggests the model could be useful for making predictions on similar data.\n"
      ],
      "metadata": {
        "id": "3ck7pFQTTtMv"
      }
    },
    {
      "cell_type": "markdown",
      "source": [
        "🧮 5. Model Evaluation"
      ],
      "metadata": {
        "id": "BqG_VuAhhDy2"
      }
    },
    {
      "cell_type": "markdown",
      "source": [
        "\n",
        "\n",
        "- **R-squared** measures how well the model explains the variance in price. A score close to 1.0 indicates a strong fit.\n",
        "- **RMSE (Root Mean Squared Error)** tells us how much our predictions deviate from the actual prices on average.\n"
      ],
      "metadata": {
        "id": "WOv9P7rJiViM"
      }
    },
    {
      "cell_type": "code",
      "source": [
        "r2 = r2_score(y, y_pred)\n",
        "rmse = np.sqrt(mean_squared_error(y, y_pred))\n",
        "\n",
        "print(f\"R-squared: {r2:.3f}\")\n",
        "print(f\"RMSE: {rmse:.2f}\")\n"
      ],
      "metadata": {
        "colab": {
          "base_uri": "https://localhost:8080/"
        },
        "id": "Fd1Zp7LnTvCJ",
        "outputId": "eeac8b46-c2aa-4a26-f73c-df02b5a319ba"
      },
      "execution_count": 5,
      "outputs": [
        {
          "output_type": "stream",
          "name": "stdout",
          "text": [
            "R-squared: 0.984\n",
            "RMSE: 10541.41\n"
          ]
        }
      ]
    },
    {
      "cell_type": "markdown",
      "source": [
        "### 🧮 Model Evaluation Summary\n",
        "\n",
        "**R-squared (R²):** 0.984  \n",
        "**Root Mean Squared Error (RMSE):** 10,541.41\n",
        "\n",
        "---\n",
        "\n",
        "### 📊 What This Means:\n",
        "\n",
        "- **R² = 0.984**: This means that **98.4% of the variance** in house prices is explained by the square footage.  \n",
        "  ➤ This is an **excellent fit**, showing the model captures the trend in the data very well.\n",
        "\n",
        "- **RMSE = 10,541.41**: On average, the model’s predictions are off by about **$10,541**.  \n",
        "  ➤ Given the price range ($150,000 to $420,000), this is a **relatively low error**, suggesting the model's predictions are **reasonably accurate**.\n",
        "\n",
        "---\n",
        "\n",
        "### ✅ Conclusion:\n",
        "\n",
        "The model demonstrates **strong predictive power** with minimal error, making it effective for estimating house prices based on square footage alone. However, in a real-world scenario, adding more features (e.g., location, number of bedrooms) could further improve accuracy.\n"
      ],
      "metadata": {
        "id": "0x7i7FONhkV_"
      }
    }
  ]
}