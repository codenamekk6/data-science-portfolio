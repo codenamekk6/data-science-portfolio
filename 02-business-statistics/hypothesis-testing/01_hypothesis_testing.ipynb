{
  "nbformat": 4,
  "nbformat_minor": 0,
  "metadata": {
    "colab": {
      "provenance": []
    },
    "kernelspec": {
      "name": "python3",
      "display_name": "Python 3"
    },
    "language_info": {
      "name": "python"
    }
  },
  "cells": [
    {
      "cell_type": "markdown",
      "source": [
        "🧪 **4. Hypothesis Testing**"
      ],
      "metadata": {
        "id": "x7pEcQG5GuGd"
      }
    },
    {
      "cell_type": "code",
      "source": [
        "# Import libraries\n",
        "import pandas as pd\n",
        "import numpy as np\n",
        "\n",
        "# Create a sample dataset\n",
        "data = {\n",
        "    \"Test Scores\": [67, 85, 90, 76, 88, 92, 70, 78, 82, 94]\n",
        "}\n",
        "df = pd.DataFrame(data)\n",
        "\n"
      ],
      "metadata": {
        "id": "cEgGoPwzHm_g"
      },
      "execution_count": 6,
      "outputs": []
    },
    {
      "cell_type": "code",
      "execution_count": 7,
      "metadata": {
        "colab": {
          "base_uri": "https://localhost:8080/"
        },
        "id": "0hPkOZ_lGhmL",
        "outputId": "e758974b-6a9b-41db-ebc0-91c552636a58"
      },
      "outputs": [
        {
          "output_type": "stream",
          "name": "stdout",
          "text": [
            "One-sample t-test result: t = 0.750, p = 0.472\n"
          ]
        }
      ],
      "source": [
        "# Import necessary library\n",
        "from scipy.stats import ttest_1samp, chi2_contingency, f_oneway\n",
        "\n",
        "# One-sample t-test: Is the mean score different from 80?\n",
        "t_stat, p_value = ttest_1samp(df[\"Test Scores\"], 80)\n",
        "print(f\"One-sample t-test result: t = {t_stat:.3f}, p = {p_value:.3f}\")\n"
      ]
    },
    {
      "cell_type": "markdown",
      "source": [
        "### 🧪 One-Sample T-Test Analysis\n",
        "\n",
        "**Test Summary:**\n",
        "- **Null Hypothesis (H₀):** The population mean is equal to 80.\n",
        "- **Alternative Hypothesis (H₁):** The population mean is different from 80.\n",
        "- **t-statistic:** 0.750\n",
        "- **p-value:** 0.472\n",
        "\n",
        "---\n",
        "\n",
        "### 📊 Interpretation:\n",
        "\n",
        "- The **t-statistic (0.750)** is relatively close to 0, indicating that the sample mean is not far from the hypothesized value of 80.\n",
        "- The **p-value (0.472)** is **greater than 0.05**, which means the result is **not statistically significant** at the 5% significance level.\n",
        "\n",
        "---\n",
        "\n",
        "### ✅ Conclusion:\n",
        "\n",
        "- **Fail to reject the null hypothesis.**\n",
        "- There is **no statistically significant difference** between the sample mean and 80.\n",
        "- This suggests that the average test score in the sample could reasonably be equal to 80.\n",
        "\n",
        "---\n",
        "\n",
        "### ℹ️ Note:\n",
        "\n",
        "If the p-value had been below 0.05, it would indicate strong evidence against the null hypothesis. But in this case, we do not have enough evidence to say the mean differs from 80.\n"
      ],
      "metadata": {
        "id": "sOeLOeg2JgNk"
      }
    },
    {
      "cell_type": "markdown",
      "source": [
        "**Chi-Square Example (Contingency Table)**"
      ],
      "metadata": {
        "id": "FQqiMvu0IPPR"
      }
    },
    {
      "cell_type": "code",
      "source": [
        "# Create a contingency table\n",
        "contingency_data = [[30, 10], [20, 40]]\n",
        "chi2, p, dof, expected = chi2_contingency(contingency_data)\n",
        "print(f\"Chi-square test result: chi2 = {chi2:.3f}, p = {p:.3f}\")\n"
      ],
      "metadata": {
        "colab": {
          "base_uri": "https://localhost:8080/"
        },
        "id": "U6Xzu5irIVGt",
        "outputId": "540da3b2-c345-424b-90a5-42de52fd36ab"
      },
      "execution_count": 8,
      "outputs": [
        {
          "output_type": "stream",
          "name": "stdout",
          "text": [
            "Chi-square test result: chi2 = 15.042, p = 0.000\n"
          ]
        }
      ]
    },
    {
      "cell_type": "markdown",
      "source": [
        "### 🧮 Chi-Square Test of Independence Analysis\n",
        "\n",
        "**Test Summary:**\n",
        "- **Null Hypothesis (H₀):** There is **no association** between the two categorical variables (they are independent).\n",
        "- **Alternative Hypothesis (H₁):** There **is an association** between the two variables (they are dependent).\n",
        "- **Chi-square statistic (χ²):** 15.042\n",
        "- **p-value:** 0.000\n",
        "\n",
        "---\n",
        "\n",
        "### 📊 Interpretation:\n",
        "\n",
        "- The **chi-square value (15.042)** is relatively high, which suggests a large difference between the observed and expected frequencies in the contingency table.\n",
        "- The **p-value (0.000)** is **well below the 0.05 threshold**, indicating a **highly significant result**.\n",
        "\n",
        "---\n",
        "\n",
        "### ✅ Conclusion:\n",
        "\n",
        "- **Reject the null hypothesis.**\n",
        "- There is **strong evidence of an association** between the two categorical variables.\n",
        "- This means the variables are **not independent**—one may influence or be related to the other.\n",
        "\n",
        "---\n",
        "\n",
        "### ℹ️ Note:\n",
        "\n",
        "A very small p-value (like 0.000) strongly suggests that the observed relationship in the contingency table is **unlikely due to chance**. Further investigation can help identify the nature of the association.\n"
      ],
      "metadata": {
        "id": "NZ0cAVPiJ6bN"
      }
    },
    {
      "cell_type": "markdown",
      "source": [
        "**ANOVA Example**"
      ],
      "metadata": {
        "id": "_mN0b8J5IhhA"
      }
    },
    {
      "cell_type": "code",
      "source": [
        "# Simulate test scores from 3 groups\n",
        "group1 = [67, 70, 72]\n",
        "group2 = [80, 85, 83]\n",
        "group3 = [90, 92, 94]\n",
        "\n",
        "anova_result = f_oneway(group1, group2, group3)\n",
        "print(f\"ANOVA test result: F = {anova_result.statistic:.3f}, p = {anova_result.pvalue:.3f}\")\n"
      ],
      "metadata": {
        "colab": {
          "base_uri": "https://localhost:8080/"
        },
        "id": "MgiAQq47Ild0",
        "outputId": "9c2b8d27-b224-4c1f-d0d7-abec246c28bf"
      },
      "execution_count": 9,
      "outputs": [
        {
          "output_type": "stream",
          "name": "stdout",
          "text": [
            "ANOVA test result: F = 67.940, p = 0.000\n"
          ]
        }
      ]
    },
    {
      "cell_type": "markdown",
      "source": [
        "### 🧪 ANOVA (Analysis of Variance) Test Analysis\n",
        "\n",
        "**Test Summary:**\n",
        "- **Null Hypothesis (H₀):** All group means are **equal**.\n",
        "- **Alternative Hypothesis (H₁):** At least one group mean is **different** from the others.\n",
        "- **F-statistic:** 67.940\n",
        "- **p-value:** 0.000\n",
        "\n",
        "---\n",
        "\n",
        "### 📊 Interpretation:\n",
        "\n",
        "- The **F-statistic (67.940)** is quite large, which indicates a high ratio of **between-group variance** to **within-group variance**.\n",
        "- The **p-value (0.000)** is **much smaller than 0.05**, meaning the result is **highly statistically significant**.\n",
        "\n",
        "---\n",
        "\n",
        "### ✅ Conclusion:\n",
        "\n",
        "- **Reject the null hypothesis.**\n",
        "- There is strong evidence that **at least one group mean is significantly different** from the others.\n",
        "- This suggests that the group or treatment effects are **not all the same**, and further post-hoc analysis (like Tukey's test) could identify **which groups differ**.\n",
        "\n",
        "---\n",
        "\n",
        "### ℹ️ Note:\n",
        "\n",
        "A high F-value and low p-value indicate that **variation between groups** is greater than variation within groups, confirming that group membership **influences the outcome variable**.\n"
      ],
      "metadata": {
        "id": "HQvU4OXOKISV"
      }
    }
  ]
}